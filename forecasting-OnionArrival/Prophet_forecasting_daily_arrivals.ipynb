{
 "cells": [
  {
   "cell_type": "code",
   "execution_count": 1,
   "metadata": {
    "colab": {
     "base_uri": "https://localhost:8080/"
    },
    "id": "snhSmIhj_F0U",
    "outputId": "ca8d9401-b23f-4ebe-f2b8-d2fd86c0ee4a"
   },
   "outputs": [
    {
     "name": "stderr",
     "output_type": "stream",
     "text": [
      "/usr/local/lib/python3.6/dist-packages/statsmodels/tools/_testing.py:19: FutureWarning: pandas.util.testing is deprecated. Use the functions in the public API at pandas.testing instead.\n",
      "  import pandas.util.testing as tm\n"
     ]
    }
   ],
   "source": [
    "import pandas as pd\n",
    "import numpy as np\n",
    "import statsmodels.api as sm\n",
    "import matplotlib.pyplot as plt\n",
    "import pylab\n",
    "from statsmodels.tsa.stattools import adfuller\n",
    "\n",
    "import warnings\n",
    "warnings.filterwarnings(\"ignore\")\n",
    "\n",
    "import seaborn as sns\n",
    "sns.set_style('whitegrid')\n",
    "sns.set_context('talk')"
   ]
  },
  {
   "cell_type": "code",
   "execution_count": 2,
   "metadata": {
    "colab": {
     "base_uri": "https://localhost:8080/"
    },
    "id": "8xMBaZaO_HCD",
    "outputId": "f12acaaf-cc54-4368-f709-2fbbb3778476"
   },
   "outputs": [
    {
     "data": {
      "text/plain": [
       "(974, 2)"
      ]
     },
     "execution_count": 2,
     "metadata": {
      "tags": []
     },
     "output_type": "execute_result"
    }
   ],
   "source": [
    "df = pd.read_excel('/content/onion_data.xlsx')\n",
    "df.shape"
   ]
  },
  {
   "cell_type": "code",
   "execution_count": 3,
   "metadata": {
    "colab": {
     "base_uri": "https://localhost:8080/"
    },
    "id": "CB2j7Ucl_dHV",
    "outputId": "21b44d0d-e115-418f-a96d-3fd0235fe5cf"
   },
   "outputs": [
    {
     "data": {
      "text/plain": [
       "(974, 2)"
      ]
     },
     "execution_count": 3,
     "metadata": {
      "tags": []
     },
     "output_type": "execute_result"
    }
   ],
   "source": [
    "df_pr = df.copy()\n",
    "df_pr.shape"
   ]
  },
  {
   "cell_type": "code",
   "execution_count": 4,
   "metadata": {
    "id": "X_Y7wG2pBL2R"
   },
   "outputs": [],
   "source": [
    "df_pr.columns = ['ds','y'] # To use prophet column names should be like that"
   ]
  },
  {
   "cell_type": "code",
   "execution_count": 5,
   "metadata": {
    "id": "DuyJK-0XBO8R"
   },
   "outputs": [],
   "source": [
    "train_data_pr = df_pr.iloc[:912]\n",
    "test_data_pr = df_pr.iloc[912:]\n",
    "train_data = df.iloc[:912]\n",
    "test_data = df.iloc[912:]"
   ]
  },
  {
   "cell_type": "code",
   "execution_count": 6,
   "metadata": {
    "colab": {
     "base_uri": "https://localhost:8080/"
    },
    "id": "H9u4uLORILjL",
    "outputId": "861074d0-43e8-4bfc-879f-119149418c69"
   },
   "outputs": [
    {
     "data": {
      "text/plain": [
       "(62, 2)"
      ]
     },
     "execution_count": 6,
     "metadata": {
      "tags": []
     },
     "output_type": "execute_result"
    }
   ],
   "source": [
    "test_data.shape"
   ]
  },
  {
   "cell_type": "code",
   "execution_count": 7,
   "metadata": {
    "id": "MUPwBYOMBReq"
   },
   "outputs": [],
   "source": [
    "from fbprophet import Prophet"
   ]
  },
  {
   "cell_type": "code",
   "execution_count": 8,
   "metadata": {
    "colab": {
     "base_uri": "https://localhost:8080/"
    },
    "id": "-QX2U46QB8pA",
    "outputId": "3235f23a-324c-4c58-9a35-143a9317806c"
   },
   "outputs": [
    {
     "name": "stderr",
     "output_type": "stream",
     "text": [
      "INFO:numexpr.utils:NumExpr defaulting to 2 threads.\n",
      "INFO:fbprophet:Disabling daily seasonality. Run prophet with daily_seasonality=True to override this.\n"
     ]
    }
   ],
   "source": [
    "m = Prophet()\n",
    "m.fit(train_data_pr)\n",
    "future = m.make_future_dataframe(periods=62)\n",
    "prophet_pred = m.predict(future)"
   ]
  },
  {
   "cell_type": "code",
   "execution_count": 9,
   "metadata": {
    "colab": {
     "base_uri": "https://localhost:8080/",
     "height": 309
    },
    "id": "oFaN13QsB-u5",
    "outputId": "e06509a4-e0be-4583-a7c8-f31f7ea7d62b"
   },
   "outputs": [
    {
     "data": {
      "text/html": [
       "<div>\n",
       "<style scoped>\n",
       "    .dataframe tbody tr th:only-of-type {\n",
       "        vertical-align: middle;\n",
       "    }\n",
       "\n",
       "    .dataframe tbody tr th {\n",
       "        vertical-align: top;\n",
       "    }\n",
       "\n",
       "    .dataframe thead th {\n",
       "        text-align: right;\n",
       "    }\n",
       "</style>\n",
       "<table border=\"1\" class=\"dataframe\">\n",
       "  <thead>\n",
       "    <tr style=\"text-align: right;\">\n",
       "      <th></th>\n",
       "      <th>ds</th>\n",
       "      <th>trend</th>\n",
       "      <th>yhat_lower</th>\n",
       "      <th>yhat_upper</th>\n",
       "      <th>trend_lower</th>\n",
       "      <th>trend_upper</th>\n",
       "      <th>additive_terms</th>\n",
       "      <th>additive_terms_lower</th>\n",
       "      <th>additive_terms_upper</th>\n",
       "      <th>weekly</th>\n",
       "      <th>weekly_lower</th>\n",
       "      <th>weekly_upper</th>\n",
       "      <th>yearly</th>\n",
       "      <th>yearly_lower</th>\n",
       "      <th>yearly_upper</th>\n",
       "      <th>multiplicative_terms</th>\n",
       "      <th>multiplicative_terms_lower</th>\n",
       "      <th>multiplicative_terms_upper</th>\n",
       "      <th>yhat</th>\n",
       "    </tr>\n",
       "  </thead>\n",
       "  <tbody>\n",
       "    <tr>\n",
       "      <th>969</th>\n",
       "      <td>2010-08-27</td>\n",
       "      <td>957.733858</td>\n",
       "      <td>621.602900</td>\n",
       "      <td>1313.251587</td>\n",
       "      <td>957.026234</td>\n",
       "      <td>958.666451</td>\n",
       "      <td>3.230789</td>\n",
       "      <td>3.230789</td>\n",
       "      <td>3.230789</td>\n",
       "      <td>-5.868459</td>\n",
       "      <td>-5.868459</td>\n",
       "      <td>-5.868459</td>\n",
       "      <td>9.099247</td>\n",
       "      <td>9.099247</td>\n",
       "      <td>9.099247</td>\n",
       "      <td>0.0</td>\n",
       "      <td>0.0</td>\n",
       "      <td>0.0</td>\n",
       "      <td>960.964647</td>\n",
       "    </tr>\n",
       "    <tr>\n",
       "      <th>970</th>\n",
       "      <td>2010-08-28</td>\n",
       "      <td>957.574093</td>\n",
       "      <td>602.322611</td>\n",
       "      <td>1268.356210</td>\n",
       "      <td>956.822194</td>\n",
       "      <td>958.539720</td>\n",
       "      <td>-28.625675</td>\n",
       "      <td>-28.625675</td>\n",
       "      <td>-28.625675</td>\n",
       "      <td>-35.303580</td>\n",
       "      <td>-35.303580</td>\n",
       "      <td>-35.303580</td>\n",
       "      <td>6.677904</td>\n",
       "      <td>6.677904</td>\n",
       "      <td>6.677904</td>\n",
       "      <td>0.0</td>\n",
       "      <td>0.0</td>\n",
       "      <td>0.0</td>\n",
       "      <td>928.948418</td>\n",
       "    </tr>\n",
       "    <tr>\n",
       "      <th>971</th>\n",
       "      <td>2010-08-29</td>\n",
       "      <td>957.414328</td>\n",
       "      <td>599.896000</td>\n",
       "      <td>1310.076000</td>\n",
       "      <td>956.642361</td>\n",
       "      <td>958.406832</td>\n",
       "      <td>2.988763</td>\n",
       "      <td>2.988763</td>\n",
       "      <td>2.988763</td>\n",
       "      <td>-0.709596</td>\n",
       "      <td>-0.709596</td>\n",
       "      <td>-0.709596</td>\n",
       "      <td>3.698359</td>\n",
       "      <td>3.698359</td>\n",
       "      <td>3.698359</td>\n",
       "      <td>0.0</td>\n",
       "      <td>0.0</td>\n",
       "      <td>0.0</td>\n",
       "      <td>960.403092</td>\n",
       "    </tr>\n",
       "    <tr>\n",
       "      <th>972</th>\n",
       "      <td>2010-08-30</td>\n",
       "      <td>957.254563</td>\n",
       "      <td>601.529997</td>\n",
       "      <td>1290.200785</td>\n",
       "      <td>956.459858</td>\n",
       "      <td>958.267809</td>\n",
       "      <td>9.361339</td>\n",
       "      <td>9.361339</td>\n",
       "      <td>9.361339</td>\n",
       "      <td>9.162982</td>\n",
       "      <td>9.162982</td>\n",
       "      <td>9.162982</td>\n",
       "      <td>0.198357</td>\n",
       "      <td>0.198357</td>\n",
       "      <td>0.198357</td>\n",
       "      <td>0.0</td>\n",
       "      <td>0.0</td>\n",
       "      <td>0.0</td>\n",
       "      <td>966.615902</td>\n",
       "    </tr>\n",
       "    <tr>\n",
       "      <th>973</th>\n",
       "      <td>2010-08-31</td>\n",
       "      <td>957.094799</td>\n",
       "      <td>592.743894</td>\n",
       "      <td>1271.483457</td>\n",
       "      <td>956.265982</td>\n",
       "      <td>958.113028</td>\n",
       "      <td>-21.294857</td>\n",
       "      <td>-21.294857</td>\n",
       "      <td>-21.294857</td>\n",
       "      <td>-17.523427</td>\n",
       "      <td>-17.523427</td>\n",
       "      <td>-17.523427</td>\n",
       "      <td>-3.771430</td>\n",
       "      <td>-3.771430</td>\n",
       "      <td>-3.771430</td>\n",
       "      <td>0.0</td>\n",
       "      <td>0.0</td>\n",
       "      <td>0.0</td>\n",
       "      <td>935.799941</td>\n",
       "    </tr>\n",
       "  </tbody>\n",
       "</table>\n",
       "</div>"
      ],
      "text/plain": [
       "            ds       trend  ...  multiplicative_terms_upper        yhat\n",
       "969 2010-08-27  957.733858  ...                         0.0  960.964647\n",
       "970 2010-08-28  957.574093  ...                         0.0  928.948418\n",
       "971 2010-08-29  957.414328  ...                         0.0  960.403092\n",
       "972 2010-08-30  957.254563  ...                         0.0  966.615902\n",
       "973 2010-08-31  957.094799  ...                         0.0  935.799941\n",
       "\n",
       "[5 rows x 19 columns]"
      ]
     },
     "execution_count": 9,
     "metadata": {
      "tags": []
     },
     "output_type": "execute_result"
    }
   ],
   "source": [
    "prophet_pred.tail()"
   ]
  },
  {
   "cell_type": "code",
   "execution_count": 10,
   "metadata": {
    "id": "4IInSfVrCA5h"
   },
   "outputs": [],
   "source": [
    "prophet_pred = pd.DataFrame({\"Date\" : prophet_pred[-62:]['ds'], \"Pred\" : prophet_pred[-62:][\"yhat\"]})"
   ]
  },
  {
   "cell_type": "code",
   "execution_count": 11,
   "metadata": {
    "id": "WFS5v9CCG1KT"
   },
   "outputs": [],
   "source": [
    "prophet_pred = prophet_pred.set_index(\"Date\")"
   ]
  },
  {
   "cell_type": "code",
   "execution_count": 12,
   "metadata": {
    "colab": {
     "base_uri": "https://localhost:8080/",
     "height": 450
    },
    "id": "AiDN-eGDCFeR",
    "outputId": "5777673d-7527-427f-ba31-7a72c1714992"
   },
   "outputs": [
    {
     "data": {
      "text/html": [
       "<div>\n",
       "<style scoped>\n",
       "    .dataframe tbody tr th:only-of-type {\n",
       "        vertical-align: middle;\n",
       "    }\n",
       "\n",
       "    .dataframe tbody tr th {\n",
       "        vertical-align: top;\n",
       "    }\n",
       "\n",
       "    .dataframe thead th {\n",
       "        text-align: right;\n",
       "    }\n",
       "</style>\n",
       "<table border=\"1\" class=\"dataframe\">\n",
       "  <thead>\n",
       "    <tr style=\"text-align: right;\">\n",
       "      <th></th>\n",
       "      <th>Pred</th>\n",
       "    </tr>\n",
       "    <tr>\n",
       "      <th>Date</th>\n",
       "      <th></th>\n",
       "    </tr>\n",
       "  </thead>\n",
       "  <tbody>\n",
       "    <tr>\n",
       "      <th>2010-07-01</th>\n",
       "      <td>883.030351</td>\n",
       "    </tr>\n",
       "    <tr>\n",
       "      <th>2010-07-02</th>\n",
       "      <td>856.756405</td>\n",
       "    </tr>\n",
       "    <tr>\n",
       "      <th>2010-07-03</th>\n",
       "      <td>820.451589</td>\n",
       "    </tr>\n",
       "    <tr>\n",
       "      <th>2010-07-04</th>\n",
       "      <td>848.562490</td>\n",
       "    </tr>\n",
       "    <tr>\n",
       "      <th>2010-07-05</th>\n",
       "      <td>852.455407</td>\n",
       "    </tr>\n",
       "    <tr>\n",
       "      <th>...</th>\n",
       "      <td>...</td>\n",
       "    </tr>\n",
       "    <tr>\n",
       "      <th>2010-08-27</th>\n",
       "      <td>960.964647</td>\n",
       "    </tr>\n",
       "    <tr>\n",
       "      <th>2010-08-28</th>\n",
       "      <td>928.948418</td>\n",
       "    </tr>\n",
       "    <tr>\n",
       "      <th>2010-08-29</th>\n",
       "      <td>960.403092</td>\n",
       "    </tr>\n",
       "    <tr>\n",
       "      <th>2010-08-30</th>\n",
       "      <td>966.615902</td>\n",
       "    </tr>\n",
       "    <tr>\n",
       "      <th>2010-08-31</th>\n",
       "      <td>935.799941</td>\n",
       "    </tr>\n",
       "  </tbody>\n",
       "</table>\n",
       "<p>62 rows × 1 columns</p>\n",
       "</div>"
      ],
      "text/plain": [
       "                  Pred\n",
       "Date                  \n",
       "2010-07-01  883.030351\n",
       "2010-07-02  856.756405\n",
       "2010-07-03  820.451589\n",
       "2010-07-04  848.562490\n",
       "2010-07-05  852.455407\n",
       "...                ...\n",
       "2010-08-27  960.964647\n",
       "2010-08-28  928.948418\n",
       "2010-08-29  960.403092\n",
       "2010-08-30  966.615902\n",
       "2010-08-31  935.799941\n",
       "\n",
       "[62 rows x 1 columns]"
      ]
     },
     "execution_count": 12,
     "metadata": {
      "tags": []
     },
     "output_type": "execute_result"
    }
   ],
   "source": [
    "prophet_pred"
   ]
  },
  {
   "cell_type": "code",
   "execution_count": 13,
   "metadata": {
    "colab": {
     "base_uri": "https://localhost:8080/",
     "height": 419
    },
    "id": "IQVY8gM9HYe_",
    "outputId": "0fc8204d-c8e9-4dc4-fe9e-ace0038952a6"
   },
   "outputs": [
    {
     "data": {
      "text/html": [
       "<div>\n",
       "<style scoped>\n",
       "    .dataframe tbody tr th:only-of-type {\n",
       "        vertical-align: middle;\n",
       "    }\n",
       "\n",
       "    .dataframe tbody tr th {\n",
       "        vertical-align: top;\n",
       "    }\n",
       "\n",
       "    .dataframe thead th {\n",
       "        text-align: right;\n",
       "    }\n",
       "</style>\n",
       "<table border=\"1\" class=\"dataframe\">\n",
       "  <thead>\n",
       "    <tr style=\"text-align: right;\">\n",
       "      <th></th>\n",
       "      <th>Date</th>\n",
       "      <th>Arrival</th>\n",
       "    </tr>\n",
       "  </thead>\n",
       "  <tbody>\n",
       "    <tr>\n",
       "      <th>912</th>\n",
       "      <td>2010-07-01</td>\n",
       "      <td>970.0</td>\n",
       "    </tr>\n",
       "    <tr>\n",
       "      <th>913</th>\n",
       "      <td>2010-07-02</td>\n",
       "      <td>795.0</td>\n",
       "    </tr>\n",
       "    <tr>\n",
       "      <th>914</th>\n",
       "      <td>2010-07-03</td>\n",
       "      <td>630.0</td>\n",
       "    </tr>\n",
       "    <tr>\n",
       "      <th>915</th>\n",
       "      <td>2010-07-04</td>\n",
       "      <td>815.0</td>\n",
       "    </tr>\n",
       "    <tr>\n",
       "      <th>916</th>\n",
       "      <td>2010-07-05</td>\n",
       "      <td>1005.0</td>\n",
       "    </tr>\n",
       "    <tr>\n",
       "      <th>...</th>\n",
       "      <td>...</td>\n",
       "      <td>...</td>\n",
       "    </tr>\n",
       "    <tr>\n",
       "      <th>969</th>\n",
       "      <td>2010-08-27</td>\n",
       "      <td>850.0</td>\n",
       "    </tr>\n",
       "    <tr>\n",
       "      <th>970</th>\n",
       "      <td>2010-08-28</td>\n",
       "      <td>1110.0</td>\n",
       "    </tr>\n",
       "    <tr>\n",
       "      <th>971</th>\n",
       "      <td>2010-08-29</td>\n",
       "      <td>995.0</td>\n",
       "    </tr>\n",
       "    <tr>\n",
       "      <th>972</th>\n",
       "      <td>2010-08-30</td>\n",
       "      <td>880.0</td>\n",
       "    </tr>\n",
       "    <tr>\n",
       "      <th>973</th>\n",
       "      <td>2010-08-31</td>\n",
       "      <td>785.0</td>\n",
       "    </tr>\n",
       "  </tbody>\n",
       "</table>\n",
       "<p>62 rows × 2 columns</p>\n",
       "</div>"
      ],
      "text/plain": [
       "          Date  Arrival\n",
       "912 2010-07-01    970.0\n",
       "913 2010-07-02    795.0\n",
       "914 2010-07-03    630.0\n",
       "915 2010-07-04    815.0\n",
       "916 2010-07-05   1005.0\n",
       "..         ...      ...\n",
       "969 2010-08-27    850.0\n",
       "970 2010-08-28   1110.0\n",
       "971 2010-08-29    995.0\n",
       "972 2010-08-30    880.0\n",
       "973 2010-08-31    785.0\n",
       "\n",
       "[62 rows x 2 columns]"
      ]
     },
     "execution_count": 13,
     "metadata": {
      "tags": []
     },
     "output_type": "execute_result"
    }
   ],
   "source": [
    "test_data"
   ]
  },
  {
   "cell_type": "code",
   "execution_count": 14,
   "metadata": {
    "id": "I2e-irjkHZWI"
   },
   "outputs": [],
   "source": [
    "test_data[\"Prophet_Predictions\"] = prophet_pred['Pred'].values"
   ]
  },
  {
   "cell_type": "code",
   "execution_count": 15,
   "metadata": {
    "colab": {
     "base_uri": "https://localhost:8080/",
     "height": 335
    },
    "id": "Gg5YzJxSHqrY",
    "outputId": "131bc471-7f7a-4959-be5a-7f01a5e32a1f"
   },
   "outputs": [
    {
     "data": {
      "image/png": "[encoded data removed]",
      "text/plain": [
       "<Figure size 1152x360 with 1 Axes>"
      ]
     },
     "metadata": {
      "needs_background": "light",
      "tags": []
     },
     "output_type": "display_data"
    }
   ],
   "source": [
    "import seaborn as sns\n",
    "plt.figure(figsize=(16,5))\n",
    "ax = sns.lineplot(x= test_data.index, y=test_data[\"Arrival\"])\n",
    "sns.lineplot(x=test_data.index, y = test_data[\"Prophet_Predictions\"]);"
   ]
  },
  {
   "cell_type": "code",
   "execution_count": 15,
   "metadata": {
    "id": "7G1IJB8ZIg1v"
   },
   "outputs": [],
   "source": []
  }
 ],
 "metadata": {
  "colab": {
   "name": "Untitled2.ipynb",
   "provenance": []
  },
  "kernelspec": {
   "display_name": "Python 3",
   "language": "python",
   "name": "python3"
  },
  "language_info": {
   "codemirror_mode": {
    "name": "ipython",
    "version": 3
   },
   "file_extension": ".py",
   "mimetype": "text/x-python",
   "name": "python",
   "nbconvert_exporter": "python",
   "pygments_lexer": "ipython3",
   "version": "3.7.2"
  }
 },
 "nbformat": 4,
 "nbformat_minor": 1
}
